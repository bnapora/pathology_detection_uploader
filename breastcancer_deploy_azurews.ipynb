{
 "cells": [
  {
   "cell_type": "code",
   "execution_count": 1,
   "metadata": {},
   "outputs": [],
   "source": [
    "from azureml.core import Workspace"
   ]
  },
  {
   "cell_type": "code",
   "execution_count": 2,
   "metadata": {},
   "outputs": [],
   "source": [
    "subscription_id = \"<Enter Azure Subscription #>\" #  Azure Subscription\n",
    "resource_group = \"gestaltml\" # Name of a logical resource group\n",
    "workspace_name = \"fastai2\" # The name of the workspace to look for or to create\n",
    "workspace_region = 'East US' # Location of the workspace\n",
    "#experiment_name = 'breastcancer'\n",
    "score_script = 'score.py'\n",
    "model_name = 'breastcancerfastai_az01'\n",
    "service_name = 'breastcancerdetectaz01'"
   ]
  },
  {
   "cell_type": "code",
   "execution_count": 3,
   "metadata": {},
   "outputs": [],
   "source": [
    "#Create Workspace if needed\n",
    "# ws = Workspace.create(name=workspace_name,\n",
    "#                subscription_id=subscription_id,\n",
    "#                resource_group=resource_group,\n",
    "#                create_resource_group=True,\n",
    "#                location=workspace_region,\n",
    "#                )"
   ]
  },
  {
   "cell_type": "code",
   "execution_count": 4,
   "metadata": {
    "tags": []
   },
   "outputs": [],
   "source": [
    "\n",
    "ws = Workspace.get(name=workspace_name, subscription_id=subscription_id, resource_group=resource_group)"
   ]
  },
  {
   "cell_type": "markdown",
   "metadata": {},
   "source": [
    "## Manually Upload & Register Model \n",
    "In Azure ML Workspace (or use register script below)"
   ]
  },
  {
   "cell_type": "code",
   "execution_count": 5,
   "metadata": {
    "tags": []
   },
   "outputs": [
    {
     "output_type": "stream",
     "name": "stdout",
     "text": "Registering model breastcancerfastai_az01\n"
    }
   ],
   "source": [
    "from azureml.core.model import Model\n",
    "\n",
    "model = Model.register(model_path=\"export.pkl\",\n",
    "                       model_name=model_name,\n",
    "                       tags={'area': \"breast\", 'type': \"transfer-learning\", 'classes':'Positive,Negative'},\n",
    "                       description=\"Breast Cancer Diag-embeded X,Y functions:092220\",\n",
    "                       workspace=ws)"
   ]
  },
  {
   "source": [
    "## Open existing Model\n",
    "Use if no change to model"
   ],
   "cell_type": "markdown",
   "metadata": {}
  },
  {
   "cell_type": "code",
   "execution_count": null,
   "metadata": {},
   "outputs": [],
   "source": [
    "# from azureml.core.model import Model\n",
    "\n",
    "# #OPen existin model already registered\n",
    "# model = Model(ws, modelupload_name)"
   ]
  },
  {
   "cell_type": "code",
   "execution_count": 6,
   "metadata": {
    "tags": []
   },
   "outputs": [
    {
     "output_type": "stream",
     "name": "stdout",
     "text": "# Conda environment specification. The dependencies defined in this file will\n# be automatically provisioned for runs with userManagedDependencies=False.\n\n# Details about the Conda environment file format:\n# https://conda.io/docs/user-guide/tasks/manage-environments.html#create-env-file-manually\n\nname: project_environment\ndependencies:\n  # The python interpreter version.\n  # Currently Azure ML only supports 3.5.2 and later.\n- python=3.6.2\n\n- pip:\n  - azureml-defaults~=1.13.0\n  - fastcore==1.0.0\n  - fastprogress==1.0.0\n  - fastscript==1.0.0\n  - Pillow==5.4.1\n  - requests\n  - torch==1.6.0\n  - torchvision>=0.5.0\n  - fastai==2.0.6\n  - ipython\nchannels:\n- anaconda\n- conda-forge\n\n"
    }
   ],
   "source": [
    "from azureml.core.conda_dependencies import CondaDependencies\n",
    "from azureml.core import Environment\n",
    "from azureml.core.model import InferenceConfig\n",
    "\n",
    "# myenv = CondaDependencies.create(pip_packages=['azureml-defaults', 'fastai==1.0.61','pillow==5.4.1',\n",
    "#                                                'torch', 'torchvision>=0.5.0'])\n",
    "\n",
    "\n",
    "myenv = CondaDependencies.create(pip_packages=[\n",
    "    'azureml-defaults~=1.13.0', 'fastcore==1.0.0', 'fastprogress==1.0.0', 'fastscript==1.0.0', 'Pillow==5.4.1', 'requests', 'torch==1.6.0', 'torchvision>=0.5.0', 'fastai==2.0.6', 'ipython'\n",
    "])\n",
    " \n",
    "with open(\"myenv.yml\",\"w\") as f:\n",
    "    f.write(myenv.serialize_to_string())\n",
    "    \n",
    "print(myenv.serialize_to_string())\n",
    "\n",
    "myenv = Environment.from_conda_specification(name=\"myenv\", file_path=\"myenv.yml\")\n",
    "inference_config = InferenceConfig(entry_script=score_script,\n",
    "                                   environment=myenv)"
   ]
  },
  {
   "cell_type": "code",
   "execution_count": 7,
   "metadata": {},
   "outputs": [],
   "source": [
    "from azureml.core.webservice import Webservice\n",
    "from azureml.core.webservice import AciWebservice\n",
    "from azureml.exceptions import WebserviceException\n",
    "\n",
    "\n",
    "\n",
    "# Remove any existing service under the same name.\n",
    "try:\n",
    "   Webservice(ws, service_name).delete()\n",
    "except WebserviceException:\n",
    "   pass\n",
    "    \n",
    "aciconfig = AciWebservice.deploy_configuration(cpu_cores=2, \n",
    "                                               memory_gb=4, \n",
    "                                               tags={'data': 'breastcancer',  'method':'transfer learning', 'framework':'pytorch', 'fastai':'2.0.6'},\n",
    "                                               description='Breast Cancer Diag-embeded X,Y functions:092220')"
   ]
  },
  {
   "cell_type": "code",
   "execution_count": null,
   "metadata": {},
   "outputs": [],
   "source": [
    "#Open existing webservice\n",
    "#service = Webservice(ws, service_name)\n"
   ]
  },
  {
   "cell_type": "code",
   "execution_count": 8,
   "metadata": {
    "tags": []
   },
   "outputs": [
    {
     "output_type": "stream",
     "name": "stdout",
     "text": "Running..............................................................................................................................\nSucceeded\nACI service creation operation finished, operation \"Succeeded\"\nHealthy\n"
    }
   ],
   "source": [
    "\n",
    "#Deploy new webservice\n",
    "service = Model.deploy(workspace=ws, \n",
    "                           name=service_name, \n",
    "                           models=[model], \n",
    "                           inference_config=inference_config, \n",
    "                           deployment_config=aciconfig)\n",
    "service.wait_for_deployment(True)\n",
    "print(service.state)"
   ]
  },
  {
   "cell_type": "code",
   "execution_count": null,
   "metadata": {},
   "outputs": [],
   "source": []
  },
  {
   "cell_type": "code",
   "execution_count": null,
   "metadata": {},
   "outputs": [],
   "source": [
    "service.get_logs()"
   ]
  },
  {
   "cell_type": "code",
   "execution_count": null,
   "metadata": {
    "tags": []
   },
   "outputs": [],
   "source": [
    "print(service.scoring_uri)"
   ]
  },
  {
   "cell_type": "code",
   "execution_count": null,
   "metadata": {
    "tags": []
   },
   "outputs": [],
   "source": [
    "service.delete()"
   ]
  },
  {
   "cell_type": "code",
   "execution_count": null,
   "metadata": {},
   "outputs": [],
   "source": [
    "service.state"
   ]
  },
  {
   "cell_type": "code",
   "execution_count": null,
   "metadata": {},
   "outputs": [],
   "source": []
  }
 ],
 "metadata": {
  "file_extension": ".py",
  "kernelspec": {
   "display_name": "Python 3.6.2 64-bit ('pathuploader': conda)",
   "language": "python",
   "name": "python_defaultSpec_1600798785637"
  },
  "language_info": {
   "codemirror_mode": {
    "name": "ipython",
    "version": 3
   },
   "file_extension": ".py",
   "mimetype": "text/x-python",
   "name": "python",
   "nbconvert_exporter": "python",
   "pygments_lexer": "ipython3",
   "version": "3.7.7-final"
  },
  "mimetype": "text/x-python",
  "name": "python",
  "npconvert_exporter": "python",
  "pygments_lexer": "ipython3",
  "version": 3
 },
 "nbformat": 4,
 "nbformat_minor": 4
}