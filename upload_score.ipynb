{
 "metadata": {
  "language_info": {
   "codemirror_mode": {
    "name": "ipython",
    "version": 3
   },
   "file_extension": ".py",
   "mimetype": "text/x-python",
   "name": "python",
   "nbconvert_exporter": "python",
   "pygments_lexer": "ipython3",
   "version": "3.6.2-final"
  },
  "orig_nbformat": 2,
  "kernelspec": {
   "name": "python_defaultSpec_1600480096642",
   "display_name": "Python 3.6.2 64-bit ('pathuploader': conda)"
  }
 },
 "nbformat": 4,
 "nbformat_minor": 2,
 "cells": [
  {
   "cell_type": "code",
   "execution_count": 1,
   "metadata": {},
   "outputs": [],
   "source": [
    "import json\n",
    "import torch\n",
    "import os, base64\n",
    "import requests\n",
    "from fastai import *\n",
    "from fastai2 import *\n",
    "from fastai2.vision import *\n",
    "from azureml.core.model import Model\n",
    "#from azureml.monitoring import ModelDataCollector\n",
    "\n",
    "    \n",
    "    \n"
   ]
  },
  {
   "cell_type": "code",
   "execution_count": 2,
   "metadata": {},
   "outputs": [],
   "source": [
    "\n",
    "def init():\n",
    "    global learn\n",
    "    \n",
    "    model_file = Model.get_model_path('breastcancerdetect')\n",
    "    model_path = os.path.dirname(model_file)\n",
    "\n",
    "    learn = load_learner(model_path)"
   ]
  },
  {
   "cell_type": "code",
   "execution_count": 3,
   "metadata": {},
   "outputs": [],
   "source": [
    "def run(raw_data):\n",
    "    base64_string = json.loads(raw_data)['data']\n",
    "    base64_bytes = base64.b64decode(base64_string)\n",
    "    with open(os.path.join(os.getcwd(),\"score.jpg\"), 'wb') as f:\n",
    "        f.write(base64_bytes)\n",
    "    \n",
    "    # make prediction\n",
    "    img = open_image(os.path.join(os.getcwd(),\"score.jpg\"))\n",
    "    #result = learn.predict(img)\n",
    "    result = 'Test,1'\n",
    "    return json.dumps({'class':str(result[0]), 'probs':result[2].data[1].item()})"
   ]
  },
  {
   "cell_type": "code",
   "execution_count": 4,
   "metadata": {},
   "outputs": [],
   "source": [
    "#upload() function from baby_vibes app.py file\n",
    "def upload(file_path):\n",
    "\n",
    "    # # Get the file from post request\n",
    "    # f = request.files['file']\n",
    "\n",
    "    # # Save the file to ./uploads\n",
    "    # basepath = os.path.dirname(__file__)\n",
    "    # file_path = os.path.join(\n",
    "    #     basepath, 'uploads', secure_filename(f.filename))\n",
    "    # f.save(file_path)\n",
    "    # print(str(file_path))\n",
    "\n",
    "    # Make prediction\n",
    "    input_data = preprocess(str(file_path))\n",
    "    preds = requests.post(scoring_uri,input_data,headers=headers)\n",
    "    result = preds.text\n",
    "    return result\n"
   ]
  },
  {
   "cell_type": "code",
   "execution_count": 5,
   "metadata": {},
   "outputs": [],
   "source": [
    "def preprocess(image):\n",
    "    # Image = requests.get(url)\n",
    "    # with open(\"test.jpg\",\"wb\") as f:\n",
    "    #   f.write(Image.content)\n",
    "    with open(image , mode='rb') as file:\n",
    "        test = file.read()\n",
    "\n",
    "    data = str(base64.b64encode(test), encoding='utf-8')  \n",
    "    input_data = json.dumps({'data': data})\n",
    "    return input_data"
   ]
  },
  {
   "cell_type": "code",
   "execution_count": 6,
   "metadata": {},
   "outputs": [],
   "source": [
    "babies_uri = 'http://5388ccee-3cc5-459d-8207-623f92391412.westus2.azurecontainer.io/score'\n",
    "pathscore_uri = 'http://45b8c0a4-1a86-431d-9c88-15f588ae7bb0.eastus.azurecontainer.io/score'\n",
    "scoring_uri = pathscore_uri\n",
    "headers = {'Content-Type': 'application/json'}"
   ]
  },
  {
   "cell_type": "code",
   "execution_count": 7,
   "metadata": {},
   "outputs": [],
   "source": [
    "imgsrc = '/home/bnapora/development/pathology_detection_uploader/images/0a0e554e88e535e0b57cc5a60ee0458802b90dfb.tif'"
   ]
  },
  {
   "cell_type": "code",
   "execution_count": 10,
   "metadata": {},
   "outputs": [],
   "source": [
    "predictiob = upload(imgsrc)"
   ]
  },
  {
   "cell_type": "code",
   "execution_count": 11,
   "metadata": {
    "tags": []
   },
   "outputs": [
    {
     "output_type": "stream",
     "name": "stdout",
     "text": "'str' object has no attribute 'data'\n"
    }
   ],
   "source": [
    "print(predictiob)"
   ]
  },
  {
   "cell_type": "code",
   "execution_count": null,
   "metadata": {},
   "outputs": [],
   "source": []
  }
 ]
}