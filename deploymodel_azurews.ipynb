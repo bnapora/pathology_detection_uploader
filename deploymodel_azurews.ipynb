{
 "cells": [
  {
   "cell_type": "code",
   "execution_count": 1,
   "metadata": {},
   "outputs": [],
   "source": [
    "from azureml.core import Workspace"
   ]
  },
  {
   "cell_type": "code",
   "execution_count": 2,
   "metadata": {},
   "outputs": [],
   "source": [
    "subscription_id = \"40bffbcc-578f-4e44-bd6d-972552eb6513\" # The ID of the Azure Subscription\n",
    "resource_group = \"gestaltml\" # Name of a logical resource group\n",
    "workspace_name = \"fastai2\" # The name of the workspace to look for or to create\n",
    "workspace_region = 'East US' # Location of the workspace\n",
    "#experiment_name = 'breastcancer'\n",
    "score_script = 'score_and_track.py'\n",
    "modelupload_name = 'breastcancerdetect'\n",
    "service_name = 'breastcancerdetect'"
   ]
  },
  {
   "cell_type": "code",
   "execution_count": 3,
   "metadata": {},
   "outputs": [],
   "source": [
    "#Create Workspace if needed\n",
    "# ws = Workspace.create(name=workspace_name,\n",
    "#                subscription_id=subscription_id,\n",
    "#                resource_group=resource_group,\n",
    "#                create_resource_group=True,\n",
    "#                location=workspace_region,\n",
    "#                )"
   ]
  },
  {
   "cell_type": "code",
   "execution_count": 4,
   "metadata": {
    "tags": []
   },
   "outputs": [],
   "source": [
    "\n",
    "ws = Workspace.get(name=workspace_name, subscription_id=subscription_id, resource_group=resource_group)"
   ]
  },
  {
   "cell_type": "markdown",
   "metadata": {},
   "source": [
    "Manually Upload & Register Model in Azure ML Workspace (or use register script below)"
   ]
  },
  {
   "cell_type": "code",
   "execution_count": 5,
   "metadata": {
    "tags": []
   },
   "outputs": [],
   "source": [
    "from azureml.core.model import Model\n",
    "\n",
    "#OPen existin model already registered\n",
    "model = Model(ws, modelupload_name)\n",
    "\n",
    "# #Register model generated in Azure\n",
    "# model = Model.register(model_path=\"export.pkl\",\n",
    "#                           model_name=modelupload_name,\n",
    "#                           tags={'data': 'Babies', 'method':'transfer learning','framework':'pytorch'},\n",
    "#                           #tags={'data': 'breastcancer',  'method':'transfer learning', 'framework':'pytorch'},\n",
    "#                           description='Image classficiation of Baby Vibes',\n",
    "#                           workspace=ws)"
   ]
  },
  {
   "cell_type": "code",
   "execution_count": 6,
   "metadata": {
    "tags": []
   },
   "outputs": [
    {
     "output_type": "stream",
     "name": "stdout",
     "text": "# Conda environment specification. The dependencies defined in this file will\n# be automatically provisioned for runs with userManagedDependencies=False.\n\n# Details about the Conda environment file format:\n# https://conda.io/docs/user-guide/tasks/manage-environments.html#create-env-file-manually\n\nname: project_environment\ndependencies:\n  # The python interpreter version.\n  # Currently Azure ML only supports 3.5.2 and later.\n- python=3.6.2\n\n- pip:\n  - azureml-defaults\n  - fastai==1.0.61\n  - pillow==5.4.1\n  - torch\n  - torchvision>=0.5.0\nchannels:\n- anaconda\n- conda-forge\n\n"
    }
   ],
   "source": [
    "from azureml.core.conda_dependencies import CondaDependencies\n",
    "from azureml.core import Environment\n",
    "from azureml.core.model import InferenceConfig\n",
    "\n",
    "myenv = CondaDependencies.create(pip_packages=['azureml-defaults', 'fastai==1.0.61','pillow==5.4.1',\n",
    "                                               'torch', 'torchvision>=0.5.0'])\n",
    "\n",
    "\n",
    "# myenv = CondaDependencies.create(pip_packages=['azureml-defaults~=1.13.0', 'fastcore==1.0.0', \n",
    "# 'fastprogress==1.0.0', 'fastscript==1.0.0', 'Pillow==5.4.1', 'requests', 'torch', 'torchvision>=0.5.0', 'fastai2==0.0.30', 'fastai==2.0.6'])\n",
    " \n",
    "with open(\"myenv.yml\",\"w\") as f:\n",
    "    f.write(myenv.serialize_to_string())\n",
    "    \n",
    "print(myenv.serialize_to_string())\n",
    "\n",
    "myenv = Environment.from_conda_specification(name=\"myenv\", file_path=\"myenv.yml\")\n",
    "inference_config = InferenceConfig(entry_script=\"score_and_track.py\",\n",
    "                                   environment=myenv)"
   ]
  },
  {
   "cell_type": "code",
   "execution_count": 7,
   "metadata": {},
   "outputs": [],
   "source": [
    "from azureml.core.webservice import Webservice\n",
    "from azureml.core.webservice import AciWebservice\n",
    "from azureml.exceptions import WebserviceException\n",
    "\n",
    "\n",
    "\n",
    "# Remove any existing service under the same name.\n",
    "try:\n",
    "   Webservice(ws, service_name).delete()\n",
    "except WebserviceException:\n",
    "   pass\n",
    "    \n",
    "aciconfig = AciWebservice.deploy_configuration(cpu_cores=2, \n",
    "                                               memory_gb=4, \n",
    "                                               tags={'data': 'breastcancer',  'method':'transfer learning', 'framework':'pytorch'},\n",
    "                                               description='')"
   ]
  },
  {
   "cell_type": "code",
   "execution_count": 8,
   "metadata": {},
   "outputs": [],
   "source": [
    "#Open existing webservice\n",
    "#service = Webservice(ws, service_name)\n"
   ]
  },
  {
   "cell_type": "code",
   "execution_count": 9,
   "metadata": {
    "tags": []
   },
   "outputs": [
    {
     "output_type": "stream",
     "name": "stdout",
     "text": "Running............................................................................................................................................................................................................................................................................................................................................................\nTimedOut\nService deployment polling reached non-successful terminal state, current service state: Unhealthy\nOperation ID: 7edcdb7c-440d-4c73-8f45-4e0d28a152c5\nMore information can be found using '.get_logs()'\nError:\n{\n  \"code\": \"DeploymentTimedOut\",\n  \"statusCode\": 504,\n  \"message\": \"The deployment operation polling has TimedOut. The service creation is taking longer than our normal time. We are still trying to achieve the desired state for the web service. Please check the webservice state for the current webservice health. You can run print(service.state) from the python SDK to retrieve the current state of the webservice. \\nPlease refer to https://aka.ms/debugimage#dockerlog for more information.\",\n  \"details\": [\n    {\n      \"code\": \"AciDeploymentFailed\",\n      \"message\": \"Your container application crashed. Please follow the steps to debug:\\n1. From the AML SDK, you can run print(service.get_logs()) if you have service object to fetch the logs. Please refer to https://aka.ms/debugimage#dockerlog for more information.\\n2. If your container application crashed. This may be caused by errors in your scoring file's init() function. You can try debugging locally first. Please refer to https://aka.ms/debugimage#debug-locally for more information.\\n3. View the diagnostic events to check status of container, it may help you to debug the issue. {\\\"restartCount\\\":9,\\\"currentState\\\":{\\\"state\\\":\\\"Waiting\\\",\\\"startTime\\\":null,\\\"exitCode\\\":null,\\\"finishTime\\\":null,\\\"detailStatus\\\":\\\"CrashLoopBackOff: Back-off 5m0s restarting failed\\\"},\\\"previousState\\\":{\\\"state\\\":\\\"Terminated\\\",\\\"startTime\\\":\\\"2020-09-19T07:23:19Z\\\",\\\"exitCode\\\":111,\\\"finishTime\\\":\\\"2020-09-19T07:23:23Z\\\",\\\"detailStatus\\\":\\\"Error\\\"},\\\"events\\\":[{\\\"count\\\":2,\\\"firstTimestamp\\\":\\\"2020-09-19T06:58:40Z\\\",\\\"lastTimestamp\\\":\\\"2020-09-19T07:01:44Z\\\",\\\"name\\\":\\\"Pulling\\\",\\\"message\\\":\\\"pulling image \\\\\\\"84659b36a99e4a16a8757ae52b4288dc.azurecr.io/azureml/azureml_5c0b6b8cdaee8e2423018b9372c2a856\\\\\\\"\\\",\\\"type\\\":\\\"Normal\\\"},{\\\"count\\\":2,\\\"firstTimestamp\\\":\\\"2020-09-19T07:01:29Z\\\",\\\"lastTimestamp\\\":\\\"2020-09-19T07:01:45Z\\\",\\\"name\\\":\\\"Pulled\\\",\\\"message\\\":\\\"Successfully pulled image \\\\\\\"84659b36a99e4a16a8757ae52b4288dc.azurecr.io/azureml/azureml_5c0b6b8cdaee8e2423018b9372c2a856\\\\\\\"\\\",\\\"type\\\":\\\"Normal\\\"},{\\\"count\\\":2,\\\"firstTimestamp\\\":\\\"2020-09-19T07:01:30Z\\\",\\\"lastTimestamp\\\":\\\"2020-09-19T07:01:46Z\\\",\\\"name\\\":\\\"Created\\\",\\\"message\\\":\\\"Created container\\\",\\\"type\\\":\\\"Normal\\\"},{\\\"count\\\":1,\\\"firstTimestamp\\\":\\\"2020-09-19T07:01:30Z\\\",\\\"lastTimestamp\\\":\\\"2020-09-19T07:01:30Z\\\",\\\"name\\\":\\\"Started\\\",\\\"message\\\":\\\"Started container\\\",\\\"type\\\":\\\"Normal\\\"},{\\\"count\\\":28,\\\"firstTimestamp\\\":\\\"2020-09-19T07:01:50Z\\\",\\\"lastTimestamp\\\":\\\"2020-09-19T07:08:33Z\\\",\\\"name\\\":\\\"BackOff\\\",\\\"message\\\":\\\"Back-off restarting failed container\\\",\\\"type\\\":\\\"Warning\\\"}]}\"\n    }\n  ]\n}\n\nService deployment polling reached non-successful terminal state, current service state: Unhealthy\nOperation ID: 7edcdb7c-440d-4c73-8f45-4e0d28a152c5\nMore information can be found using '.get_logs()'\nError:\n{\n  \"code\": \"DeploymentTimedOut\",\n  \"statusCode\": 504,\n  \"message\": \"The deployment operation polling has TimedOut. The service creation is taking longer than our normal time. We are still trying to achieve the desired state for the web service. Please check the webservice state for the current webservice health. You can run print(service.state) from the python SDK to retrieve the current state of the webservice. \\nPlease refer to https://aka.ms/debugimage#dockerlog for more information.\",\n  \"details\": [\n    {\n      \"code\": \"AciDeploymentFailed\",\n      \"message\": \"Your container application crashed. Please follow the steps to debug:\\n1. From the AML SDK, you can run print(service.get_logs()) if you have service object to fetch the logs. Please refer to https://aka.ms/debugimage#dockerlog for more information.\\n2. If your container application crashed. This may be caused by errors in your scoring file's init() function. You can try debugging locally first. Please refer to https://aka.ms/debugimage#debug-locally for more information.\\n3. View the diagnostic events to check status of container, it may help you to debug the issue. {\\\"restartCount\\\":9,\\\"currentState\\\":{\\\"state\\\":\\\"Waiting\\\",\\\"startTime\\\":null,\\\"exitCode\\\":null,\\\"finishTime\\\":null,\\\"detailStatus\\\":\\\"CrashLoopBackOff: Back-off 5m0s restarting failed\\\"},\\\"previousState\\\":{\\\"state\\\":\\\"Terminated\\\",\\\"startTime\\\":\\\"2020-09-19T07:23:19Z\\\",\\\"exitCode\\\":111,\\\"finishTime\\\":\\\"2020-09-19T07:23:23Z\\\",\\\"detailStatus\\\":\\\"Error\\\"},\\\"events\\\":[{\\\"count\\\":2,\\\"firstTimestamp\\\":\\\"2020-09-19T06:58:40Z\\\",\\\"lastTimestamp\\\":\\\"2020-09-19T07:01:44Z\\\",\\\"name\\\":\\\"Pulling\\\",\\\"message\\\":\\\"pulling image \\\\\\\"84659b36a99e4a16a8757ae52b4288dc.azurecr.io/azureml/azureml_5c0b6b8cdaee8e2423018b9372c2a856\\\\\\\"\\\",\\\"type\\\":\\\"Normal\\\"},{\\\"count\\\":2,\\\"firstTimestamp\\\":\\\"2020-09-19T07:01:29Z\\\",\\\"lastTimestamp\\\":\\\"2020-09-19T07:01:45Z\\\",\\\"name\\\":\\\"Pulled\\\",\\\"message\\\":\\\"Successfully pulled image \\\\\\\"84659b36a99e4a16a8757ae52b4288dc.azurecr.io/azureml/azureml_5c0b6b8cdaee8e2423018b9372c2a856\\\\\\\"\\\",\\\"type\\\":\\\"Normal\\\"},{\\\"count\\\":2,\\\"firstTimestamp\\\":\\\"2020-09-19T07:01:30Z\\\",\\\"lastTimestamp\\\":\\\"2020-09-19T07:01:46Z\\\",\\\"name\\\":\\\"Created\\\",\\\"message\\\":\\\"Created container\\\",\\\"type\\\":\\\"Normal\\\"},{\\\"count\\\":1,\\\"firstTimestamp\\\":\\\"2020-09-19T07:01:30Z\\\",\\\"lastTimestamp\\\":\\\"2020-09-19T07:01:30Z\\\",\\\"name\\\":\\\"Started\\\",\\\"message\\\":\\\"Started container\\\",\\\"type\\\":\\\"Normal\\\"},{\\\"count\\\":28,\\\"firstTimestamp\\\":\\\"2020-09-19T07:01:50Z\\\",\\\"lastTimestamp\\\":\\\"2020-09-19T07:08:33Z\\\",\\\"name\\\":\\\"BackOff\\\",\\\"message\\\":\\\"Back-off restarting failed container\\\",\\\"type\\\":\\\"Warning\\\"}]}\"\n    }\n  ]\n}\n\n"
    },
    {
     "output_type": "error",
     "ename": "WebserviceException",
     "evalue": "WebserviceException:\n\tMessage: Service deployment polling reached non-successful terminal state, current service state: Unhealthy\nOperation ID: 7edcdb7c-440d-4c73-8f45-4e0d28a152c5\nMore information can be found using '.get_logs()'\nError:\n{\n  \"code\": \"DeploymentTimedOut\",\n  \"statusCode\": 504,\n  \"message\": \"The deployment operation polling has TimedOut. The service creation is taking longer than our normal time. We are still trying to achieve the desired state for the web service. Please check the webservice state for the current webservice health. You can run print(service.state) from the python SDK to retrieve the current state of the webservice. \\nPlease refer to https://aka.ms/debugimage#dockerlog for more information.\",\n  \"details\": [\n    {\n      \"code\": \"AciDeploymentFailed\",\n      \"message\": \"Your container application crashed. Please follow the steps to debug:\\n1. From the AML SDK, you can run print(service.get_logs()) if you have service object to fetch the logs. Please refer to https://aka.ms/debugimage#dockerlog for more information.\\n2. If your container application crashed. This may be caused by errors in your scoring file's init() function. You can try debugging locally first. Please refer to https://aka.ms/debugimage#debug-locally for more information.\\n3. View the diagnostic events to check status of container, it may help you to debug the issue. {\\\"restartCount\\\":9,\\\"currentState\\\":{\\\"state\\\":\\\"Waiting\\\",\\\"startTime\\\":null,\\\"exitCode\\\":null,\\\"finishTime\\\":null,\\\"detailStatus\\\":\\\"CrashLoopBackOff: Back-off 5m0s restarting failed\\\"},\\\"previousState\\\":{\\\"state\\\":\\\"Terminated\\\",\\\"startTime\\\":\\\"2020-09-19T07:23:19Z\\\",\\\"exitCode\\\":111,\\\"finishTime\\\":\\\"2020-09-19T07:23:23Z\\\",\\\"detailStatus\\\":\\\"Error\\\"},\\\"events\\\":[{\\\"count\\\":2,\\\"firstTimestamp\\\":\\\"2020-09-19T06:58:40Z\\\",\\\"lastTimestamp\\\":\\\"2020-09-19T07:01:44Z\\\",\\\"name\\\":\\\"Pulling\\\",\\\"message\\\":\\\"pulling image \\\\\\\"84659b36a99e4a16a8757ae52b4288dc.azurecr.io/azureml/azureml_5c0b6b8cdaee8e2423018b9372c2a856\\\\\\\"\\\",\\\"type\\\":\\\"Normal\\\"},{\\\"count\\\":2,\\\"firstTimestamp\\\":\\\"2020-09-19T07:01:29Z\\\",\\\"lastTimestamp\\\":\\\"2020-09-19T07:01:45Z\\\",\\\"name\\\":\\\"Pulled\\\",\\\"message\\\":\\\"Successfully pulled image \\\\\\\"84659b36a99e4a16a8757ae52b4288dc.azurecr.io/azureml/azureml_5c0b6b8cdaee8e2423018b9372c2a856\\\\\\\"\\\",\\\"type\\\":\\\"Normal\\\"},{\\\"count\\\":2,\\\"firstTimestamp\\\":\\\"2020-09-19T07:01:30Z\\\",\\\"lastTimestamp\\\":\\\"2020-09-19T07:01:46Z\\\",\\\"name\\\":\\\"Created\\\",\\\"message\\\":\\\"Created container\\\",\\\"type\\\":\\\"Normal\\\"},{\\\"count\\\":1,\\\"firstTimestamp\\\":\\\"2020-09-19T07:01:30Z\\\",\\\"lastTimestamp\\\":\\\"2020-09-19T07:01:30Z\\\",\\\"name\\\":\\\"Started\\\",\\\"message\\\":\\\"Started container\\\",\\\"type\\\":\\\"Normal\\\"},{\\\"count\\\":28,\\\"firstTimestamp\\\":\\\"2020-09-19T07:01:50Z\\\",\\\"lastTimestamp\\\":\\\"2020-09-19T07:08:33Z\\\",\\\"name\\\":\\\"BackOff\\\",\\\"message\\\":\\\"Back-off restarting failed container\\\",\\\"type\\\":\\\"Warning\\\"}]}\"\n    }\n  ]\n}\n\tInnerException None\n\tErrorResponse \n{\n    \"error\": {\n        \"message\": \"Service deployment polling reached non-successful terminal state, current service state: Unhealthy\\nOperation ID: 7edcdb7c-440d-4c73-8f45-4e0d28a152c5\\nMore information can be found using '.get_logs()'\\nError:\\n{\\n  \\\"code\\\": \\\"DeploymentTimedOut\\\",\\n  \\\"statusCode\\\": 504,\\n  \\\"message\\\": \\\"The deployment operation polling has TimedOut. The service creation is taking longer than our normal time. We are still trying to achieve the desired state for the web service. Please check the webservice state for the current webservice health. You can run print(service.state) from the python SDK to retrieve the current state of the webservice. \\\\nPlease refer to https://aka.ms/debugimage#dockerlog for more information.\\\",\\n  \\\"details\\\": [\\n    {\\n      \\\"code\\\": \\\"AciDeploymentFailed\\\",\\n      \\\"message\\\": \\\"Your container application crashed. Please follow the steps to debug:\\\\n1. From the AML SDK, you can run print(service.get_logs()) if you have service object to fetch the logs. Please refer to https://aka.ms/debugimage#dockerlog for more information.\\\\n2. If your container application crashed. This may be caused by errors in your scoring file's init() function. You can try debugging locally first. Please refer to https://aka.ms/debugimage#debug-locally for more information.\\\\n3. View the diagnostic events to check status of container, it may help you to debug the issue. {\\\\\\\"restartCount\\\\\\\":9,\\\\\\\"currentState\\\\\\\":{\\\\\\\"state\\\\\\\":\\\\\\\"Waiting\\\\\\\",\\\\\\\"startTime\\\\\\\":null,\\\\\\\"exitCode\\\\\\\":null,\\\\\\\"finishTime\\\\\\\":null,\\\\\\\"detailStatus\\\\\\\":\\\\\\\"CrashLoopBackOff: Back-off 5m0s restarting failed\\\\\\\"},\\\\\\\"previousState\\\\\\\":{\\\\\\\"state\\\\\\\":\\\\\\\"Terminated\\\\\\\",\\\\\\\"startTime\\\\\\\":\\\\\\\"2020-09-19T07:23:19Z\\\\\\\",\\\\\\\"exitCode\\\\\\\":111,\\\\\\\"finishTime\\\\\\\":\\\\\\\"2020-09-19T07:23:23Z\\\\\\\",\\\\\\\"detailStatus\\\\\\\":\\\\\\\"Error\\\\\\\"},\\\\\\\"events\\\\\\\":[{\\\\\\\"count\\\\\\\":2,\\\\\\\"firstTimestamp\\\\\\\":\\\\\\\"2020-09-19T06:58:40Z\\\\\\\",\\\\\\\"lastTimestamp\\\\\\\":\\\\\\\"2020-09-19T07:01:44Z\\\\\\\",\\\\\\\"name\\\\\\\":\\\\\\\"Pulling\\\\\\\",\\\\\\\"message\\\\\\\":\\\\\\\"pulling image \\\\\\\\\\\\\\\"84659b36a99e4a16a8757ae52b4288dc.azurecr.io/azureml/azureml_5c0b6b8cdaee8e2423018b9372c2a856\\\\\\\\\\\\\\\"\\\\\\\",\\\\\\\"type\\\\\\\":\\\\\\\"Normal\\\\\\\"},{\\\\\\\"count\\\\\\\":2,\\\\\\\"firstTimestamp\\\\\\\":\\\\\\\"2020-09-19T07:01:29Z\\\\\\\",\\\\\\\"lastTimestamp\\\\\\\":\\\\\\\"2020-09-19T07:01:45Z\\\\\\\",\\\\\\\"name\\\\\\\":\\\\\\\"Pulled\\\\\\\",\\\\\\\"message\\\\\\\":\\\\\\\"Successfully pulled image \\\\\\\\\\\\\\\"84659b36a99e4a16a8757ae52b4288dc.azurecr.io/azureml/azureml_5c0b6b8cdaee8e2423018b9372c2a856\\\\\\\\\\\\\\\"\\\\\\\",\\\\\\\"type\\\\\\\":\\\\\\\"Normal\\\\\\\"},{\\\\\\\"count\\\\\\\":2,\\\\\\\"firstTimestamp\\\\\\\":\\\\\\\"2020-09-19T07:01:30Z\\\\\\\",\\\\\\\"lastTimestamp\\\\\\\":\\\\\\\"2020-09-19T07:01:46Z\\\\\\\",\\\\\\\"name\\\\\\\":\\\\\\\"Created\\\\\\\",\\\\\\\"message\\\\\\\":\\\\\\\"Created container\\\\\\\",\\\\\\\"type\\\\\\\":\\\\\\\"Normal\\\\\\\"},{\\\\\\\"count\\\\\\\":1,\\\\\\\"firstTimestamp\\\\\\\":\\\\\\\"2020-09-19T07:01:30Z\\\\\\\",\\\\\\\"lastTimestamp\\\\\\\":\\\\\\\"2020-09-19T07:01:30Z\\\\\\\",\\\\\\\"name\\\\\\\":\\\\\\\"Started\\\\\\\",\\\\\\\"message\\\\\\\":\\\\\\\"Started container\\\\\\\",\\\\\\\"type\\\\\\\":\\\\\\\"Normal\\\\\\\"},{\\\\\\\"count\\\\\\\":28,\\\\\\\"firstTimestamp\\\\\\\":\\\\\\\"2020-09-19T07:01:50Z\\\\\\\",\\\\\\\"lastTimestamp\\\\\\\":\\\\\\\"2020-09-19T07:08:33Z\\\\\\\",\\\\\\\"name\\\\\\\":\\\\\\\"BackOff\\\\\\\",\\\\\\\"message\\\\\\\":\\\\\\\"Back-off restarting failed container\\\\\\\",\\\\\\\"type\\\\\\\":\\\\\\\"Warning\\\\\\\"}]}\\\"\\n    }\\n  ]\\n}\"\n    }\n}",
     "traceback": [
      "\u001b[0;31m---------------------------------------------------------------------------\u001b[0m",
      "\u001b[0;31mWebserviceException\u001b[0m                       Traceback (most recent call last)",
      "\u001b[0;32m~/miniconda3/envs/pathuploader/lib/python3.6/site-packages/azureml/core/webservice/webservice.py\u001b[0m in \u001b[0;36mwait_for_deployment\u001b[0;34m(self, show_output)\u001b[0m\n\u001b[1;32m    673\u001b[0m                                           '{}'.format(self.state, self._operation_endpoint.split('/')[-1],\n\u001b[0;32m--> 674\u001b[0;31m                                                       logs_response, error_response), logger=module_logger)\n\u001b[0m\u001b[1;32m    675\u001b[0m             print('{} service creation operation finished, operation \"{}\"'.format(self._webservice_type,\n",
      "\u001b[0;31mWebserviceException\u001b[0m: WebserviceException:\n\tMessage: Service deployment polling reached non-successful terminal state, current service state: Unhealthy\nOperation ID: 7edcdb7c-440d-4c73-8f45-4e0d28a152c5\nMore information can be found using '.get_logs()'\nError:\n{\n  \"code\": \"DeploymentTimedOut\",\n  \"statusCode\": 504,\n  \"message\": \"The deployment operation polling has TimedOut. The service creation is taking longer than our normal time. We are still trying to achieve the desired state for the web service. Please check the webservice state for the current webservice health. You can run print(service.state) from the python SDK to retrieve the current state of the webservice. \\nPlease refer to https://aka.ms/debugimage#dockerlog for more information.\",\n  \"details\": [\n    {\n      \"code\": \"AciDeploymentFailed\",\n      \"message\": \"Your container application crashed. Please follow the steps to debug:\\n1. From the AML SDK, you can run print(service.get_logs()) if you have service object to fetch the logs. Please refer to https://aka.ms/debugimage#dockerlog for more information.\\n2. If your container application crashed. This may be caused by errors in your scoring file's init() function. You can try debugging locally first. Please refer to https://aka.ms/debugimage#debug-locally for more information.\\n3. View the diagnostic events to check status of container, it may help you to debug the issue. {\\\"restartCount\\\":9,\\\"currentState\\\":{\\\"state\\\":\\\"Waiting\\\",\\\"startTime\\\":null,\\\"exitCode\\\":null,\\\"finishTime\\\":null,\\\"detailStatus\\\":\\\"CrashLoopBackOff: Back-off 5m0s restarting failed\\\"},\\\"previousState\\\":{\\\"state\\\":\\\"Terminated\\\",\\\"startTime\\\":\\\"2020-09-19T07:23:19Z\\\",\\\"exitCode\\\":111,\\\"finishTime\\\":\\\"2020-09-19T07:23:23Z\\\",\\\"detailStatus\\\":\\\"Error\\\"},\\\"events\\\":[{\\\"count\\\":2,\\\"firstTimestamp\\\":\\\"2020-09-19T06:58:40Z\\\",\\\"lastTimestamp\\\":\\\"2020-09-19T07:01:44Z\\\",\\\"name\\\":\\\"Pulling\\\",\\\"message\\\":\\\"pulling image \\\\\\\"84659b36a99e4a16a8757ae52b4288dc.azurecr.io/azureml/azureml_5c0b6b8cdaee8e2423018b9372c2a856\\\\\\\"\\\",\\\"type\\\":\\\"Normal\\\"},{\\\"count\\\":2,\\\"firstTimestamp\\\":\\\"2020-09-19T07:01:29Z\\\",\\\"lastTimestamp\\\":\\\"2020-09-19T07:01:45Z\\\",\\\"name\\\":\\\"Pulled\\\",\\\"message\\\":\\\"Successfully pulled image \\\\\\\"84659b36a99e4a16a8757ae52b4288dc.azurecr.io/azureml/azureml_5c0b6b8cdaee8e2423018b9372c2a856\\\\\\\"\\\",\\\"type\\\":\\\"Normal\\\"},{\\\"count\\\":2,\\\"firstTimestamp\\\":\\\"2020-09-19T07:01:30Z\\\",\\\"lastTimestamp\\\":\\\"2020-09-19T07:01:46Z\\\",\\\"name\\\":\\\"Created\\\",\\\"message\\\":\\\"Created container\\\",\\\"type\\\":\\\"Normal\\\"},{\\\"count\\\":1,\\\"firstTimestamp\\\":\\\"2020-09-19T07:01:30Z\\\",\\\"lastTimestamp\\\":\\\"2020-09-19T07:01:30Z\\\",\\\"name\\\":\\\"Started\\\",\\\"message\\\":\\\"Started container\\\",\\\"type\\\":\\\"Normal\\\"},{\\\"count\\\":28,\\\"firstTimestamp\\\":\\\"2020-09-19T07:01:50Z\\\",\\\"lastTimestamp\\\":\\\"2020-09-19T07:08:33Z\\\",\\\"name\\\":\\\"BackOff\\\",\\\"message\\\":\\\"Back-off restarting failed container\\\",\\\"type\\\":\\\"Warning\\\"}]}\"\n    }\n  ]\n}\n\tInnerException None\n\tErrorResponse \n{\n    \"error\": {\n        \"message\": \"Service deployment polling reached non-successful terminal state, current service state: Unhealthy\\nOperation ID: 7edcdb7c-440d-4c73-8f45-4e0d28a152c5\\nMore information can be found using '.get_logs()'\\nError:\\n{\\n  \\\"code\\\": \\\"DeploymentTimedOut\\\",\\n  \\\"statusCode\\\": 504,\\n  \\\"message\\\": \\\"The deployment operation polling has TimedOut. The service creation is taking longer than our normal time. We are still trying to achieve the desired state for the web service. Please check the webservice state for the current webservice health. You can run print(service.state) from the python SDK to retrieve the current state of the webservice. \\\\nPlease refer to https://aka.ms/debugimage#dockerlog for more information.\\\",\\n  \\\"details\\\": [\\n    {\\n      \\\"code\\\": \\\"AciDeploymentFailed\\\",\\n      \\\"message\\\": \\\"Your container application crashed. Please follow the steps to debug:\\\\n1. From the AML SDK, you can run print(service.get_logs()) if you have service object to fetch the logs. Please refer to https://aka.ms/debugimage#dockerlog for more information.\\\\n2. If your container application crashed. This may be caused by errors in your scoring file's init() function. You can try debugging locally first. Please refer to https://aka.ms/debugimage#debug-locally for more information.\\\\n3. View the diagnostic events to check status of container, it may help you to debug the issue. {\\\\\\\"restartCount\\\\\\\":9,\\\\\\\"currentState\\\\\\\":{\\\\\\\"state\\\\\\\":\\\\\\\"Waiting\\\\\\\",\\\\\\\"startTime\\\\\\\":null,\\\\\\\"exitCode\\\\\\\":null,\\\\\\\"finishTime\\\\\\\":null,\\\\\\\"detailStatus\\\\\\\":\\\\\\\"CrashLoopBackOff: Back-off 5m0s restarting failed\\\\\\\"},\\\\\\\"previousState\\\\\\\":{\\\\\\\"state\\\\\\\":\\\\\\\"Terminated\\\\\\\",\\\\\\\"startTime\\\\\\\":\\\\\\\"2020-09-19T07:23:19Z\\\\\\\",\\\\\\\"exitCode\\\\\\\":111,\\\\\\\"finishTime\\\\\\\":\\\\\\\"2020-09-19T07:23:23Z\\\\\\\",\\\\\\\"detailStatus\\\\\\\":\\\\\\\"Error\\\\\\\"},\\\\\\\"events\\\\\\\":[{\\\\\\\"count\\\\\\\":2,\\\\\\\"firstTimestamp\\\\\\\":\\\\\\\"2020-09-19T06:58:40Z\\\\\\\",\\\\\\\"lastTimestamp\\\\\\\":\\\\\\\"2020-09-19T07:01:44Z\\\\\\\",\\\\\\\"name\\\\\\\":\\\\\\\"Pulling\\\\\\\",\\\\\\\"message\\\\\\\":\\\\\\\"pulling image \\\\\\\\\\\\\\\"84659b36a99e4a16a8757ae52b4288dc.azurecr.io/azureml/azureml_5c0b6b8cdaee8e2423018b9372c2a856\\\\\\\\\\\\\\\"\\\\\\\",\\\\\\\"type\\\\\\\":\\\\\\\"Normal\\\\\\\"},{\\\\\\\"count\\\\\\\":2,\\\\\\\"firstTimestamp\\\\\\\":\\\\\\\"2020-09-19T07:01:29Z\\\\\\\",\\\\\\\"lastTimestamp\\\\\\\":\\\\\\\"2020-09-19T07:01:45Z\\\\\\\",\\\\\\\"name\\\\\\\":\\\\\\\"Pulled\\\\\\\",\\\\\\\"message\\\\\\\":\\\\\\\"Successfully pulled image \\\\\\\\\\\\\\\"84659b36a99e4a16a8757ae52b4288dc.azurecr.io/azureml/azureml_5c0b6b8cdaee8e2423018b9372c2a856\\\\\\\\\\\\\\\"\\\\\\\",\\\\\\\"type\\\\\\\":\\\\\\\"Normal\\\\\\\"},{\\\\\\\"count\\\\\\\":2,\\\\\\\"firstTimestamp\\\\\\\":\\\\\\\"2020-09-19T07:01:30Z\\\\\\\",\\\\\\\"lastTimestamp\\\\\\\":\\\\\\\"2020-09-19T07:01:46Z\\\\\\\",\\\\\\\"name\\\\\\\":\\\\\\\"Created\\\\\\\",\\\\\\\"message\\\\\\\":\\\\\\\"Created container\\\\\\\",\\\\\\\"type\\\\\\\":\\\\\\\"Normal\\\\\\\"},{\\\\\\\"count\\\\\\\":1,\\\\\\\"firstTimestamp\\\\\\\":\\\\\\\"2020-09-19T07:01:30Z\\\\\\\",\\\\\\\"lastTimestamp\\\\\\\":\\\\\\\"2020-09-19T07:01:30Z\\\\\\\",\\\\\\\"name\\\\\\\":\\\\\\\"Started\\\\\\\",\\\\\\\"message\\\\\\\":\\\\\\\"Started container\\\\\\\",\\\\\\\"type\\\\\\\":\\\\\\\"Normal\\\\\\\"},{\\\\\\\"count\\\\\\\":28,\\\\\\\"firstTimestamp\\\\\\\":\\\\\\\"2020-09-19T07:01:50Z\\\\\\\",\\\\\\\"lastTimestamp\\\\\\\":\\\\\\\"2020-09-19T07:08:33Z\\\\\\\",\\\\\\\"name\\\\\\\":\\\\\\\"BackOff\\\\\\\",\\\\\\\"message\\\\\\\":\\\\\\\"Back-off restarting failed container\\\\\\\",\\\\\\\"type\\\\\\\":\\\\\\\"Warning\\\\\\\"}]}\\\"\\n    }\\n  ]\\n}\"\n    }\n}",
      "\nDuring handling of the above exception, another exception occurred:\n",
      "\u001b[0;31mWebserviceException\u001b[0m                       Traceback (most recent call last)",
      "\u001b[0;32m<ipython-input-9-16cf85b82304>\u001b[0m in \u001b[0;36m<module>\u001b[0;34m\u001b[0m\n\u001b[1;32m      5\u001b[0m                            \u001b[0minference_config\u001b[0m\u001b[0;34m=\u001b[0m\u001b[0minference_config\u001b[0m\u001b[0;34m,\u001b[0m\u001b[0;34m\u001b[0m\u001b[0m\n\u001b[1;32m      6\u001b[0m                            deployment_config=aciconfig)\n\u001b[0;32m----> 7\u001b[0;31m \u001b[0mservice\u001b[0m\u001b[0;34m.\u001b[0m\u001b[0mwait_for_deployment\u001b[0m\u001b[0;34m(\u001b[0m\u001b[0;32mTrue\u001b[0m\u001b[0;34m)\u001b[0m\u001b[0;34m\u001b[0m\u001b[0m\n\u001b[0m\u001b[1;32m      8\u001b[0m \u001b[0mprint\u001b[0m\u001b[0;34m(\u001b[0m\u001b[0mservice\u001b[0m\u001b[0;34m.\u001b[0m\u001b[0mstate\u001b[0m\u001b[0;34m)\u001b[0m\u001b[0;34m\u001b[0m\u001b[0m\n",
      "\u001b[0;32m~/miniconda3/envs/pathuploader/lib/python3.6/site-packages/azureml/core/webservice/webservice.py\u001b[0m in \u001b[0;36mwait_for_deployment\u001b[0;34m(self, show_output)\u001b[0m\n\u001b[1;32m    681\u001b[0m                                           'Current state is {}'.format(self.state), logger=module_logger)\n\u001b[1;32m    682\u001b[0m             \u001b[0;32melse\u001b[0m\u001b[0;34m:\u001b[0m\u001b[0;34m\u001b[0m\u001b[0m\n\u001b[0;32m--> 683\u001b[0;31m                 \u001b[0;32mraise\u001b[0m \u001b[0mWebserviceException\u001b[0m\u001b[0;34m(\u001b[0m\u001b[0me\u001b[0m\u001b[0;34m.\u001b[0m\u001b[0mmessage\u001b[0m\u001b[0;34m,\u001b[0m \u001b[0mlogger\u001b[0m\u001b[0;34m=\u001b[0m\u001b[0mmodule_logger\u001b[0m\u001b[0;34m)\u001b[0m\u001b[0;34m\u001b[0m\u001b[0m\n\u001b[0m\u001b[1;32m    684\u001b[0m \u001b[0;34m\u001b[0m\u001b[0m\n\u001b[1;32m    685\u001b[0m     \u001b[0;32mdef\u001b[0m \u001b[0m_wait_for_operation_to_complete\u001b[0m\u001b[0;34m(\u001b[0m\u001b[0mself\u001b[0m\u001b[0;34m,\u001b[0m \u001b[0mshow_output\u001b[0m\u001b[0;34m)\u001b[0m\u001b[0;34m:\u001b[0m\u001b[0;34m\u001b[0m\u001b[0m\n",
      "\u001b[0;31mWebserviceException\u001b[0m: WebserviceException:\n\tMessage: Service deployment polling reached non-successful terminal state, current service state: Unhealthy\nOperation ID: 7edcdb7c-440d-4c73-8f45-4e0d28a152c5\nMore information can be found using '.get_logs()'\nError:\n{\n  \"code\": \"DeploymentTimedOut\",\n  \"statusCode\": 504,\n  \"message\": \"The deployment operation polling has TimedOut. The service creation is taking longer than our normal time. We are still trying to achieve the desired state for the web service. Please check the webservice state for the current webservice health. You can run print(service.state) from the python SDK to retrieve the current state of the webservice. \\nPlease refer to https://aka.ms/debugimage#dockerlog for more information.\",\n  \"details\": [\n    {\n      \"code\": \"AciDeploymentFailed\",\n      \"message\": \"Your container application crashed. Please follow the steps to debug:\\n1. From the AML SDK, you can run print(service.get_logs()) if you have service object to fetch the logs. Please refer to https://aka.ms/debugimage#dockerlog for more information.\\n2. If your container application crashed. This may be caused by errors in your scoring file's init() function. You can try debugging locally first. Please refer to https://aka.ms/debugimage#debug-locally for more information.\\n3. View the diagnostic events to check status of container, it may help you to debug the issue. {\\\"restartCount\\\":9,\\\"currentState\\\":{\\\"state\\\":\\\"Waiting\\\",\\\"startTime\\\":null,\\\"exitCode\\\":null,\\\"finishTime\\\":null,\\\"detailStatus\\\":\\\"CrashLoopBackOff: Back-off 5m0s restarting failed\\\"},\\\"previousState\\\":{\\\"state\\\":\\\"Terminated\\\",\\\"startTime\\\":\\\"2020-09-19T07:23:19Z\\\",\\\"exitCode\\\":111,\\\"finishTime\\\":\\\"2020-09-19T07:23:23Z\\\",\\\"detailStatus\\\":\\\"Error\\\"},\\\"events\\\":[{\\\"count\\\":2,\\\"firstTimestamp\\\":\\\"2020-09-19T06:58:40Z\\\",\\\"lastTimestamp\\\":\\\"2020-09-19T07:01:44Z\\\",\\\"name\\\":\\\"Pulling\\\",\\\"message\\\":\\\"pulling image \\\\\\\"84659b36a99e4a16a8757ae52b4288dc.azurecr.io/azureml/azureml_5c0b6b8cdaee8e2423018b9372c2a856\\\\\\\"\\\",\\\"type\\\":\\\"Normal\\\"},{\\\"count\\\":2,\\\"firstTimestamp\\\":\\\"2020-09-19T07:01:29Z\\\",\\\"lastTimestamp\\\":\\\"2020-09-19T07:01:45Z\\\",\\\"name\\\":\\\"Pulled\\\",\\\"message\\\":\\\"Successfully pulled image \\\\\\\"84659b36a99e4a16a8757ae52b4288dc.azurecr.io/azureml/azureml_5c0b6b8cdaee8e2423018b9372c2a856\\\\\\\"\\\",\\\"type\\\":\\\"Normal\\\"},{\\\"count\\\":2,\\\"firstTimestamp\\\":\\\"2020-09-19T07:01:30Z\\\",\\\"lastTimestamp\\\":\\\"2020-09-19T07:01:46Z\\\",\\\"name\\\":\\\"Created\\\",\\\"message\\\":\\\"Created container\\\",\\\"type\\\":\\\"Normal\\\"},{\\\"count\\\":1,\\\"firstTimestamp\\\":\\\"2020-09-19T07:01:30Z\\\",\\\"lastTimestamp\\\":\\\"2020-09-19T07:01:30Z\\\",\\\"name\\\":\\\"Started\\\",\\\"message\\\":\\\"Started container\\\",\\\"type\\\":\\\"Normal\\\"},{\\\"count\\\":28,\\\"firstTimestamp\\\":\\\"2020-09-19T07:01:50Z\\\",\\\"lastTimestamp\\\":\\\"2020-09-19T07:08:33Z\\\",\\\"name\\\":\\\"BackOff\\\",\\\"message\\\":\\\"Back-off restarting failed container\\\",\\\"type\\\":\\\"Warning\\\"}]}\"\n    }\n  ]\n}\n\tInnerException None\n\tErrorResponse \n{\n    \"error\": {\n        \"message\": \"Service deployment polling reached non-successful terminal state, current service state: Unhealthy\\nOperation ID: 7edcdb7c-440d-4c73-8f45-4e0d28a152c5\\nMore information can be found using '.get_logs()'\\nError:\\n{\\n  \\\"code\\\": \\\"DeploymentTimedOut\\\",\\n  \\\"statusCode\\\": 504,\\n  \\\"message\\\": \\\"The deployment operation polling has TimedOut. The service creation is taking longer than our normal time. We are still trying to achieve the desired state for the web service. Please check the webservice state for the current webservice health. You can run print(service.state) from the python SDK to retrieve the current state of the webservice. \\\\nPlease refer to https://aka.ms/debugimage#dockerlog for more information.\\\",\\n  \\\"details\\\": [\\n    {\\n      \\\"code\\\": \\\"AciDeploymentFailed\\\",\\n      \\\"message\\\": \\\"Your container application crashed. Please follow the steps to debug:\\\\n1. From the AML SDK, you can run print(service.get_logs()) if you have service object to fetch the logs. Please refer to https://aka.ms/debugimage#dockerlog for more information.\\\\n2. If your container application crashed. This may be caused by errors in your scoring file's init() function. You can try debugging locally first. Please refer to https://aka.ms/debugimage#debug-locally for more information.\\\\n3. View the diagnostic events to check status of container, it may help you to debug the issue. {\\\\\\\"restartCount\\\\\\\":9,\\\\\\\"currentState\\\\\\\":{\\\\\\\"state\\\\\\\":\\\\\\\"Waiting\\\\\\\",\\\\\\\"startTime\\\\\\\":null,\\\\\\\"exitCode\\\\\\\":null,\\\\\\\"finishTime\\\\\\\":null,\\\\\\\"detailStatus\\\\\\\":\\\\\\\"CrashLoopBackOff: Back-off 5m0s restarting failed\\\\\\\"},\\\\\\\"previousState\\\\\\\":{\\\\\\\"state\\\\\\\":\\\\\\\"Terminated\\\\\\\",\\\\\\\"startTime\\\\\\\":\\\\\\\"2020-09-19T07:23:19Z\\\\\\\",\\\\\\\"exitCode\\\\\\\":111,\\\\\\\"finishTime\\\\\\\":\\\\\\\"2020-09-19T07:23:23Z\\\\\\\",\\\\\\\"detailStatus\\\\\\\":\\\\\\\"Error\\\\\\\"},\\\\\\\"events\\\\\\\":[{\\\\\\\"count\\\\\\\":2,\\\\\\\"firstTimestamp\\\\\\\":\\\\\\\"2020-09-19T06:58:40Z\\\\\\\",\\\\\\\"lastTimestamp\\\\\\\":\\\\\\\"2020-09-19T07:01:44Z\\\\\\\",\\\\\\\"name\\\\\\\":\\\\\\\"Pulling\\\\\\\",\\\\\\\"message\\\\\\\":\\\\\\\"pulling image \\\\\\\\\\\\\\\"84659b36a99e4a16a8757ae52b4288dc.azurecr.io/azureml/azureml_5c0b6b8cdaee8e2423018b9372c2a856\\\\\\\\\\\\\\\"\\\\\\\",\\\\\\\"type\\\\\\\":\\\\\\\"Normal\\\\\\\"},{\\\\\\\"count\\\\\\\":2,\\\\\\\"firstTimestamp\\\\\\\":\\\\\\\"2020-09-19T07:01:29Z\\\\\\\",\\\\\\\"lastTimestamp\\\\\\\":\\\\\\\"2020-09-19T07:01:45Z\\\\\\\",\\\\\\\"name\\\\\\\":\\\\\\\"Pulled\\\\\\\",\\\\\\\"message\\\\\\\":\\\\\\\"Successfully pulled image \\\\\\\\\\\\\\\"84659b36a99e4a16a8757ae52b4288dc.azurecr.io/azureml/azureml_5c0b6b8cdaee8e2423018b9372c2a856\\\\\\\\\\\\\\\"\\\\\\\",\\\\\\\"type\\\\\\\":\\\\\\\"Normal\\\\\\\"},{\\\\\\\"count\\\\\\\":2,\\\\\\\"firstTimestamp\\\\\\\":\\\\\\\"2020-09-19T07:01:30Z\\\\\\\",\\\\\\\"lastTimestamp\\\\\\\":\\\\\\\"2020-09-19T07:01:46Z\\\\\\\",\\\\\\\"name\\\\\\\":\\\\\\\"Created\\\\\\\",\\\\\\\"message\\\\\\\":\\\\\\\"Created container\\\\\\\",\\\\\\\"type\\\\\\\":\\\\\\\"Normal\\\\\\\"},{\\\\\\\"count\\\\\\\":1,\\\\\\\"firstTimestamp\\\\\\\":\\\\\\\"2020-09-19T07:01:30Z\\\\\\\",\\\\\\\"lastTimestamp\\\\\\\":\\\\\\\"2020-09-19T07:01:30Z\\\\\\\",\\\\\\\"name\\\\\\\":\\\\\\\"Started\\\\\\\",\\\\\\\"message\\\\\\\":\\\\\\\"Started container\\\\\\\",\\\\\\\"type\\\\\\\":\\\\\\\"Normal\\\\\\\"},{\\\\\\\"count\\\\\\\":28,\\\\\\\"firstTimestamp\\\\\\\":\\\\\\\"2020-09-19T07:01:50Z\\\\\\\",\\\\\\\"lastTimestamp\\\\\\\":\\\\\\\"2020-09-19T07:08:33Z\\\\\\\",\\\\\\\"name\\\\\\\":\\\\\\\"BackOff\\\\\\\",\\\\\\\"message\\\\\\\":\\\\\\\"Back-off restarting failed container\\\\\\\",\\\\\\\"type\\\\\\\":\\\\\\\"Warning\\\\\\\"}]}\\\"\\n    }\\n  ]\\n}\"\n    }\n}"
     ]
    }
   ],
   "source": [
    "\n",
    "#Deploy new webservice\n",
    "service = Model.deploy(workspace=ws, \n",
    "                           name=service_name, \n",
    "                           models=[model], \n",
    "                           inference_config=inference_config, \n",
    "                           deployment_config=aciconfig)\n",
    "service.wait_for_deployment(True)\n",
    "print(service.state)"
   ]
  },
  {
   "cell_type": "code",
   "execution_count": null,
   "metadata": {},
   "outputs": [],
   "source": []
  },
  {
   "cell_type": "code",
   "execution_count": 10,
   "metadata": {},
   "outputs": [
    {
     "output_type": "execute_result",
     "data": {
      "text/plain": "'2020-09-21T04:27:13,780779471+00:00 - gunicorn/run \\n2020-09-21T04:27:13,780778571+00:00 - rsyslog/run \\n2020-09-21T04:27:13,781785571+00:00 - nginx/run \\n2020-09-21T04:27:13,786272268+00:00 - iot-server/run \\n/usr/sbin/nginx: /azureml-envs/azureml_735c2df7e059c8781874479b32c473b8/lib/libcrypto.so.1.0.0: no version information available (required by /usr/sbin/nginx)\\n/usr/sbin/nginx: /azureml-envs/azureml_735c2df7e059c8781874479b32c473b8/lib/libcrypto.so.1.0.0: no version information available (required by /usr/sbin/nginx)\\n/usr/sbin/nginx: /azureml-envs/azureml_735c2df7e059c8781874479b32c473b8/lib/libssl.so.1.0.0: no version information available (required by /usr/sbin/nginx)\\n/usr/sbin/nginx: /azureml-envs/azureml_735c2df7e059c8781874479b32c473b8/lib/libssl.so.1.0.0: no version information available (required by /usr/sbin/nginx)\\n/usr/sbin/nginx: /azureml-envs/azureml_735c2df7e059c8781874479b32c473b8/lib/libssl.so.1.0.0: no version information available (required by /usr/sbin/nginx)\\nEdgeHubConnectionString and IOTEDGE_IOTHUBHOSTNAME are not set. Exiting...\\n2020-09-21T04:27:13,906136991+00:00 - iot-server/finish 1 0\\n2020-09-21T04:27:13,907844890+00:00 - Exit code 1 is normal. Not restarting iot-server.\\nStarting gunicorn 19.9.0\\nListening at: http://127.0.0.1:31311 (15)\\nUsing worker: sync\\nworker timeout is set to 300\\nBooting worker with pid: 41\\nSPARK_HOME not set. Skipping PySpark Initialization.\\nGenerating new fontManager, this may take some time...\\nInitializing logger\\n2020-09-21 04:27:17,068 | root | INFO | Starting up app insights client\\nStarting up app insights client\\n2020-09-21 04:27:17,069 | root | INFO | Starting up request id generator\\nStarting up request id generator\\n2020-09-21 04:27:17,069 | root | INFO | Starting up app insight hooks\\nStarting up app insight hooks\\n2020-09-21 04:27:17,069 | root | INFO | Invoking user\\'s init function\\nInvoking user\\'s init function\\n2020-09-21 04:27:17,099 | root | ERROR | User\\'s init function failed\\nUser\\'s init function failed\\n2020-09-21 04:27:17,100 | root | ERROR | Encountered Exception Traceback (most recent call last):\\n  File \"/var/azureml-server/aml_blueprint.py\", line 177, in register\\n    main.init()\\n  File \"/var/azureml-app/score_and_track.py\", line 16, in init\\n    learn = load_learner(model_path)\\n  File \"/azureml-envs/azureml_735c2df7e059c8781874479b32c473b8/lib/python3.6/site-packages/fastai/basic_train.py\", line 621, in load_learner\\n    state = torch.load(source, map_location=\\'cpu\\') if defaults.device == torch.device(\\'cpu\\') else torch.load(source)\\n  File \"/azureml-envs/azureml_735c2df7e059c8781874479b32c473b8/lib/python3.6/site-packages/torch/serialization.py\", line 584, in load\\n    return _load(opened_zipfile, map_location, pickle_module, **pickle_load_args)\\n  File \"/azureml-envs/azureml_735c2df7e059c8781874479b32c473b8/lib/python3.6/site-packages/torch/serialization.py\", line 842, in _load\\n    result = unpickler.load()\\nModuleNotFoundError: No module named \\'fastai2\\'\\n\\nEncountered Exception Traceback (most recent call last):\\n  File \"/var/azureml-server/aml_blueprint.py\", line 177, in register\\n    main.init()\\n  File \"/var/azureml-app/score_and_track.py\", line 16, in init\\n    learn = load_learner(model_path)\\n  File \"/azureml-envs/azureml_735c2df7e059c8781874479b32c473b8/lib/python3.6/site-packages/fastai/basic_train.py\", line 621, in load_learner\\n    state = torch.load(source, map_location=\\'cpu\\') if defaults.device == torch.device(\\'cpu\\') else torch.load(source)\\n  File \"/azureml-envs/azureml_735c2df7e059c8781874479b32c473b8/lib/python3.6/site-packages/torch/serialization.py\", line 584, in load\\n    return _load(opened_zipfile, map_location, pickle_module, **pickle_load_args)\\n  File \"/azureml-envs/azureml_735c2df7e059c8781874479b32c473b8/lib/python3.6/site-packages/torch/serialization.py\", line 842, in _load\\n    result = unpickler.load()\\nModuleNotFoundError: No module named \\'fastai2\\'\\n\\nWorker exiting (pid: 41)\\nShutting down: Master\\nReason: Worker failed to boot.\\n2020-09-21T04:27:17,622913801+00:00 - gunicorn/finish 3 0\\n2020-09-21T04:27:17,624163900+00:00 - Exit code 3 is not normal. Killing image.\\n'"
     },
     "metadata": {},
     "execution_count": 10
    }
   ],
   "source": [
    "service.get_logs()"
   ]
  },
  {
   "cell_type": "code",
   "execution_count": null,
   "metadata": {
    "tags": []
   },
   "outputs": [],
   "source": [
    "print(service.scoring_uri)"
   ]
  },
  {
   "cell_type": "code",
   "execution_count": null,
   "metadata": {
    "tags": []
   },
   "outputs": [],
   "source": [
    "service.delete()"
   ]
  },
  {
   "cell_type": "code",
   "execution_count": null,
   "metadata": {},
   "outputs": [],
   "source": [
    "service.state"
   ]
  },
  {
   "cell_type": "code",
   "execution_count": null,
   "metadata": {},
   "outputs": [],
   "source": []
  }
 ],
 "metadata": {
  "file_extension": ".py",
  "kernelspec": {
   "display_name": "Python 3.6.2 64-bit ('pathuploader': conda)",
   "language": "python",
   "name": "python_defaultSpec_1600482784574"
  },
  "language_info": {
   "codemirror_mode": {
    "name": "ipython",
    "version": 3
   },
   "file_extension": ".py",
   "mimetype": "text/x-python",
   "name": "python",
   "nbconvert_exporter": "python",
   "pygments_lexer": "ipython3",
   "version": "3.6.2-final"
  },
  "mimetype": "text/x-python",
  "name": "python",
  "npconvert_exporter": "python",
  "pygments_lexer": "ipython3",
  "version": 3
 },
 "nbformat": 4,
 "nbformat_minor": 4
}