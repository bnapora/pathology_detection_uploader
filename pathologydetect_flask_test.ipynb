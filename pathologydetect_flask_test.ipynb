{
 "cells": [
  {
   "cell_type": "code",
   "execution_count": 1,
   "metadata": {},
   "outputs": [],
   "source": [
    "from __future__ import division, print_function\n",
    "import sys\n",
    "import os\n",
    "import glob\n",
    "import re\n",
    "from pathlib import Path\n",
    "from io import BytesIO\n",
    "import base64\n",
    "import requests\n",
    "import base64\n",
    "\n",
    "\n",
    "# Import fast.ai Library\n",
    "import torch\n",
    "from fastai2.basics import *\n",
    "from fastai2.callback.all import *\n",
    "from fastai2.vision.all import *\n",
    "from fastai2.vision.core import *\n",
    "from fastai2.vision.widgets import *\n",
    "\n",
    "# Flask utils\n",
    "from flask import Flask, redirect, url_for, render_template, request\n",
    "#from PIL import Image as pilImage"
   ]
  },
  {
   "cell_type": "code",
   "execution_count": 2,
   "metadata": {},
   "outputs": [],
   "source": [
    "\n",
    "# Define a flask app\n",
    "app = Flask(__name__)\n",
    "\n",
    "NAME_OF_FILE = 'export.pkl' # Name of your exported file\n",
    "PATH_TO_MODELS_DIR = Path() # by default just use /models in root dir\n",
    "classes = ['Negative','Tumor']"
   ]
  },
  {
   "cell_type": "code",
   "execution_count": 3,
   "metadata": {},
   "outputs": [],
   "source": [
    "\n",
    "# Include functions from model class\n",
    "def get_x(r): \n",
    "    pathstr = str(path)\n",
    "    idstr = str(r['id'])\n",
    "    imgpathstr = pathstr + '/train/' + idstr + '.tif'\n",
    "    return imgpathstr\n",
    "def get_y(r): return r['label']\n",
    "\n",
    "def setup_model_pth(path_to_pth_file, learner_name_to_load, classes):\n",
    "    learn = load_learner(path_to_pth_file/'export.pkl')\n",
    "    return learn"
   ]
  },
  {
   "cell_type": "code",
   "execution_count": 4,
   "metadata": {},
   "outputs": [],
   "source": [
    "learn = setup_model_pth(PATH_TO_MODELS_DIR, NAME_OF_FILE, classes)"
   ]
  },
  {
   "cell_type": "code",
   "execution_count": 43,
   "metadata": {},
   "outputs": [],
   "source": [
    "def change_pred_totext(preds):\n",
    "    if (preds==1):\n",
    "        predvalue = 'Positive'\n",
    "    else:\n",
    "        predvalue = 'Negative'\n",
    "    return predvalue\n",
    "\n",
    "def encode(img):\n",
    "    img = Image.open(BytesIO(img))\n",
    "    img = img.resize((500,500))\n",
    "    buff = BytesIO()\n",
    "    img.save(buff, format='jpeg')\n",
    "    return base64.b64encode(buff.getvalue()).decode(\"utf-8\")\n",
    "\n",
    "# def pred_probs():\n",
    "#     preds = sorted(zip(learn.dls.vocab, map(str, formatted_outputs)), key=lambda p: p[1], reverse=True\n",
    "#     return preds    \n",
    "\t\n",
    "def model_predict(img):\n",
    "    #img = Image.open(BytesIO(img))\n",
    "    pred_class,pred_idx,outputs = learn.predict(img)\n",
    "    formatted_outputs = [\"{:.1f}%\".format(value) for value in [x * 100 for x in torch.nn.functional.softmax(outputs, dim=0)]]\n",
    "    pred_probs = sorted(\n",
    "            zip(learn.dls.vocab, map(str, formatted_outputs)),\n",
    "            key=lambda p: p[1],\n",
    "            reverse=True\n",
    "        )\n",
    "#     predvocab = learn.dls.vocab\n",
    "#     preds = sorted(zip(predvocab, map(str, formatted_outputs)))\n",
    "#     pred_probs = preds\n",
    "    #img_data = encode(img)\n",
    "    pred_class = change_pred_totext(pred_class)\n",
    "    \n",
    "    #Different return statement for debug of function\n",
    "    result = {\"class\":pred_class, \"probs\":pred_probs}\n",
    "    return result\n",
    "    \n",
    "    #img_data = encode(img)\n",
    "    #result = {\"class\":pred_class, \"probs\":pred_probs, \"image\":img_data}\n",
    "    #    return render_template('result.html', result=result)\n",
    "    \n",
    "  "
   ]
  },
  {
   "cell_type": "code",
   "execution_count": 44,
   "metadata": {},
   "outputs": [],
   "source": [
    "path = Path()\n",
    "#imgsrc = '/workspace/histopathologic-cancer-detection/train/6961bdcc16f6c1d7db88fc6a7823178288c2a29e.tif'\n",
    "imgsrc = '/workspace/skincancer_fastaiflask/data/ham10000_images/ISIC_0024306.jpg'\n",
    "#img = PILImage.create(img)"
   ]
  },
  {
   "cell_type": "code",
   "execution_count": 45,
   "metadata": {},
   "outputs": [
    {
     "data": {
      "text/html": [],
      "text/plain": [
       "<IPython.core.display.HTML object>"
      ]
     },
     "metadata": {},
     "output_type": "display_data"
    },
    {
     "name": "stdout",
     "output_type": "stream",
     "text": [
      "{'class': 'Negative', 'probs': [(0, '73.0%'), (1, '27.0%')]}\n"
     ]
    }
   ],
   "source": [
    "preds = model_predict(imgsrc)\n",
    "print(preds)"
   ]
  },
  {
   "cell_type": "code",
   "execution_count": null,
   "metadata": {},
   "outputs": [],
   "source": [
    "   \n",
    "\n",
    "@app.route('/', methods=['GET', \"POST\"])\n",
    "def index():\n",
    "    # Main page\n",
    "    return render_template('index.html')\n",
    "\n",
    "\n",
    "@app.route('/upload', methods=[\"POST\", \"GET\"])\n",
    "def upload():\n",
    "    if request.method == 'POST':\n",
    "        # Get the file from post request\n",
    "        img = request.files['file'].read()\n",
    "        if img != None:\n",
    "        # Make prediction\n",
    "            preds = model_predict(img)\n",
    "            return preds\n",
    "    return 'OK'\n",
    "\t\n",
    "@app.route(\"/classify-url\", methods=[\"POST\", \"GET\"])\n",
    "def classify_url():\n",
    "    if request.method == 'POST':\n",
    "        url = request.form[\"url\"]\n",
    "        if url != None:\n",
    "            response = requests.get(url)\n",
    "            preds = model_predict(response.content)\n",
    "            return preds\n",
    "    return 'OK'\n",
    "    "
   ]
  },
  {
   "cell_type": "code",
   "execution_count": null,
   "metadata": {},
   "outputs": [],
   "source": [
    "if __name__ == '__main__':\n",
    "    port = os.environ.get('PORT', 8008)\n",
    "\n",
    "    if \"prepare\" not in sys.argv:\n",
    "        app.run(debug=True, host='0.0.0.0', port=port)\n"
   ]
  },
  {
   "cell_type": "code",
   "execution_count": null,
   "metadata": {},
   "outputs": [],
   "source": [
    "%tb"
   ]
  },
  {
   "cell_type": "code",
   "execution_count": null,
   "metadata": {},
   "outputs": [],
   "source": []
  }
 ],
 "metadata": {
  "kernelspec": {
   "display_name": "fastai2",
   "language": "python",
   "name": "fastai2"
  },
  "language_info": {
   "codemirror_mode": {
    "name": "ipython",
    "version": 3
   },
   "file_extension": ".py",
   "mimetype": "text/x-python",
   "name": "python",
   "nbconvert_exporter": "python",
   "pygments_lexer": "ipython3",
   "version": "3.8.5"
  }
 },
 "nbformat": 4,
 "nbformat_minor": 4
}